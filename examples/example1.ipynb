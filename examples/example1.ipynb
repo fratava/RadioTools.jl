{
 "cells": [
  {
   "cell_type": "markdown",
   "metadata": {},
   "source": [
    "# RadioTools.jl"
   ]
  },
  {
   "cell_type": "code",
   "execution_count": 2,
   "metadata": {},
   "outputs": [],
   "source": [
    "using RadioTools"
   ]
  },
  {
   "cell_type": "markdown",
   "metadata": {},
   "source": [
    "# Ejemplo\n",
    "\n",
    "Tenemos una antena de 2m de diámetro y queremos saber su resolución angular a una frecuencia de 12Ghz.\n",
    "\n",
    "Primero tenemos que convertir la frecuencia a longitud de onda. Como la longitud de onda onda está en cm, debemos convertirla a metros."
   ]
  },
  {
   "cell_type": "code",
   "execution_count": 3,
   "metadata": {},
   "outputs": [
    {
     "name": "stdout",
     "output_type": "stream",
     "text": [
      "λ = 2.4982704675 cm\n",
      "D = 200 cm\n"
     ]
    }
   ],
   "source": [
    "ν = ghz2hz(12) #hz\n",
    "λ = fre2wl(ν)  #cm\n",
    "D = m2cm(2)    #cm \n",
    "\n",
    "println(\"λ = $λ cm\\nD = $D cm\")"
   ]
  },
  {
   "cell_type": "markdown",
   "metadata": {},
   "source": [
    "Despues utilizamos la función \n",
    "```julia\n",
    "angulares(λ,D,arcs=true)\n",
    "``` \n",
    "y obtendremos el resultado en arcs. Si queremos convertirlo a grados en el cielo usamos la función:\n",
    "```julia\n",
    "arcs2dg(arcs)\n",
    "```"
   ]
  },
  {
   "cell_type": "code",
   "execution_count": 4,
   "metadata": {},
   "outputs": [
    {
     "name": "stdout",
     "output_type": "stream",
     "text": [
      "La resolución angular en grados es de 0.8743946636249998\n"
     ]
    }
   ],
   "source": [
    "res_angular=angulares(λ,D)\n",
    "res_angular_grados=arcs2dg(res_angular)\n",
    "\n",
    "println(\"La resolución angular en grados es de $res_angular_grados\")"
   ]
  },
  {
   "cell_type": "markdown",
   "metadata": {},
   "source": [
    "Para intener la intensidad $I_\\nu$ usamos la función\n",
    "\n",
    "```julia\n",
    "intensity_fq(ν,T)\n",
    "```"
   ]
  },
  {
   "cell_type": "code",
   "execution_count": 5,
   "metadata": {},
   "outputs": [
    {
     "name": "stdout",
     "output_type": "stream",
     "text": [
      "La intensidad es de 2.5660328547779883e-13 (erg s⁻¹/ cm² sr Hz)\n"
     ]
    }
   ],
   "source": [
    "T=5800 #Temperatura de cuerpo negro para el sol\n",
    "\n",
    "I_nu=intensity_fq(ν,T)\n",
    "\n",
    "println(\"La intensidad es de $I_nu (erg s⁻¹/ cm² sr Hz)\")"
   ]
  },
  {
   "cell_type": "markdown",
   "metadata": {},
   "source": [
    "Para el flujo de llegada necesitamos el radio del obejeto (suponemos geometría esférica) y la distancia a el mismo desde el observador. Usamos entonces la función\n",
    "\n",
    "```julia\n",
    "flux_ll(R, r, ν, T)\n",
    "```\n",
    "\n",
    "Donde:\n",
    "- R = Radio del objeto\n",
    "- r = la distancia al objeto\n",
    "- $\\nu$ = la frecuencia de observación\n",
    "- T = Temperatura"
   ]
  },
  {
   "cell_type": "code",
   "execution_count": 6,
   "metadata": {},
   "outputs": [
    {
     "name": "stdout",
     "output_type": "stream",
     "text": [
      "El flujo de llegada en CGS es 1.7448361761347794e-17 (erg / cm² s Hz) \n",
      "El flujo de llegada en Jy es 1.7448361761347794e6 (Jy)\n"
     ]
    },
    {
     "ename": "LoadError",
     "evalue": "\u001b[91mUndefVarError: Δν not defined\u001b[39m",
     "output_type": "error",
     "traceback": [
      "\u001b[91mUndefVarError: Δν not defined\u001b[39m",
      "",
      "Stacktrace:",
      " [1] \u001b[1minclude_string\u001b[22m\u001b[22m\u001b[1m(\u001b[22m\u001b[22m::String, ::String\u001b[1m)\u001b[22m\u001b[22m at \u001b[1m./loading.jl:515\u001b[22m\u001b[22m"
     ]
    }
   ],
   "source": [
    "R = solar_radio\n",
    "r = au\n",
    "\n",
    "f_ll   = flux_ll(R, r, ν, T)\n",
    "f_ll_y = f_ll / Jy\n",
    "\n",
    "println(\"El flujo de llegada en CGS es $f_ll (erg / cm² s Hz) \\nEl flujo de llegada en Jy es $f_ll_y (Jy)\")\n",
    "\n",
    "f_ll * Δν"
   ]
  },
  {
   "cell_type": "markdown",
   "metadata": {},
   "source": [
    "Otro ejemplo es $\\alpha$ Cen A"
   ]
  },
  {
   "cell_type": "code",
   "execution_count": 7,
   "metadata": {},
   "outputs": [
    {
     "name": "stdout",
     "output_type": "stream",
     "text": [
      "El flujo de llegada en CGS es 3.413350715448765e-28 (erg / cm² s Hz) \n",
      "El flujo de llegada en Jy es 3.413350715448765e-5 (Jy)\n"
     ]
    }
   ],
   "source": [
    "R_αA = 1.2234 * solar_radio\n",
    "r_αA = 4.37 * ly\n",
    "T_αA = 5790\n",
    "\n",
    "f_ll_αA    = flux_ll(R_αA, r_αA, ν, T_αA)\n",
    "f_ll_αA_jy = f_ll_αA / Jy\n",
    "\n",
    "println(\"El flujo de llegada en CGS es $f_ll_αA (erg / cm² s Hz) \\nEl flujo de llegada en Jy es $f_ll_αA_jy (Jy)\")"
   ]
  },
  {
   "cell_type": "markdown",
   "metadata": {},
   "source": [
    "Para el flujo observado, necesitamos el área efectiva del instrumento. \n",
    "\n",
    "Sigamos con el ejemplo de una antena de 2m de diámetro, cuyo radio será entonces 1m. Recordando que el área de un círculo es $\\pi r^2$, usamos entonces la función \n",
    "\n",
    "```julia\n",
    "flux_obs(A,R,r,λ,T)\n",
    "```"
   ]
  },
  {
   "cell_type": "code",
   "execution_count": 8,
   "metadata": {},
   "outputs": [
    {
     "name": "stdout",
     "output_type": "stream",
     "text": [
      "El flujo observado con un radiotelescopio de radio 1m es 5.48156451266273e-15 (erg / s Hz)\n"
     ]
    }
   ],
   "source": [
    "A_eff = π * (D/2) #cm⁻²\n",
    "\n",
    "f_obs = flux_obs(A_eff,R,r,ν,T)\n",
    "\n",
    "println(\"El flujo observado con un radiotelescopio de radio 1m es $f_obs (erg / s Hz)\")"
   ]
  },
  {
   "cell_type": "markdown",
   "metadata": {},
   "source": [
    "Si tomamos un ancho de banda de 2Ghz es decir $\\Delta \\nu$ = 2Ghz tenemos que el flujo observado es:\n",
    "\n",
    "```julia\n",
    "flux_obs_dnu(Δν,R,r,ν,T)\n",
    "```"
   ]
  },
  {
   "cell_type": "code",
   "execution_count": 11,
   "metadata": {},
   "outputs": [
    {
     "data": {
      "text/plain": [
       "3.489672352269559e-8"
      ]
     },
     "execution_count": 11,
     "metadata": {},
     "output_type": "execute_result"
    }
   ],
   "source": [
    "Δν = ghz2hz(2)\n",
    "f_obs_nu = flux_obs_dnu(Δν,R,r,ν,T)"
   ]
  },
  {
   "cell_type": "code",
   "execution_count": 15,
   "metadata": {},
   "outputs": [
    {
     "data": {
      "text/plain": [
       "1.3601905254334612e6"
      ]
     },
     "execution_count": 15,
     "metadata": {},
     "output_type": "execute_result"
    }
   ],
   "source": [
    "#A_tierra = π * 6.378e8^2\n",
    "\n",
    "lum_bol = σ * (5770)^4 *  (R/r)^2 #Bolométrica\n",
    "\n",
    "#aaa = 4 * π * R^2 * f_ll"
   ]
  },
  {
   "cell_type": "code",
   "execution_count": 16,
   "metadata": {},
   "outputs": [
    {
     "data": {
      "text/plain": [
       "1.519458371707094e-19"
      ]
     },
     "execution_count": 16,
     "metadata": {},
     "output_type": "execute_result"
    }
   ],
   "source": [
    "(lum_bol * A_eff )/(4 * π * (au)^2)"
   ]
  },
  {
   "cell_type": "code",
   "execution_count": 17,
   "metadata": {},
   "outputs": [
    {
     "name": "stdout",
     "output_type": "stream",
     "text": [
      "La luminosidad espectral es 4.906993342831389e10 (erg s⁻¹)\n"
     ]
    }
   ],
   "source": [
    "lum_espectral = f_ll * 4π * au^2#flujo_total * 4π * au^2 #Espectral\n",
    "\n",
    "println(\"La luminosidad espectral es $lum_espectral (erg s⁻¹)\" )"
   ]
  },
  {
   "cell_type": "code",
   "execution_count": 18,
   "metadata": {},
   "outputs": [
    {
     "data": {
      "text/plain": [
       "4.8365862135909295e-22"
      ]
     },
     "execution_count": 18,
     "metadata": {},
     "output_type": "execute_result"
    }
   ],
   "source": [
    "(lum_bol)/(4 * π * (au)^2)"
   ]
  },
  {
   "cell_type": "code",
   "execution_count": 19,
   "metadata": {},
   "outputs": [
    {
     "data": {
      "text/plain": [
       "8.724180880673896e-27"
      ]
     },
     "execution_count": 19,
     "metadata": {},
     "output_type": "execute_result"
    }
   ],
   "source": [
    "f_ll / Δν "
   ]
  },
  {
   "cell_type": "code",
   "execution_count": null,
   "metadata": {},
   "outputs": [],
   "source": []
  }
 ],
 "metadata": {
  "kernelspec": {
   "display_name": "Julia 0.6.0",
   "language": "julia",
   "name": "julia-0.6"
  },
  "language_info": {
   "file_extension": ".jl",
   "mimetype": "application/julia",
   "name": "julia",
   "version": "0.6.0"
  }
 },
 "nbformat": 4,
 "nbformat_minor": 2
}
